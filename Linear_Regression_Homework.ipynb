{
 "cells": [
  {
   "cell_type": "markdown",
   "metadata": {},
   "source": [
    "# Linear Regression Implementation"
   ]
  },
  {
   "cell_type": "markdown",
   "metadata": {},
   "source": [
    "In this homework, you need to implement LR algorithm.\n",
    "* Generate data\n",
    "* Implement LinearRegression class methods\n",
    "* Visualize results"
   ]
  },
  {
   "cell_type": "markdown",
   "metadata": {},
   "source": [
    "### Imports"
   ]
  },
  {
   "cell_type": "code",
   "execution_count": 1,
   "metadata": {},
   "outputs": [],
   "source": [
    "import numpy as np \n",
    "import matplotlib.pyplot as plt"
   ]
  },
  {
   "cell_type": "markdown",
   "metadata": {},
   "source": [
    "#### 1. Generate data\n",
    "* Generate 200 points uniform randomly in range [0,1] and assign it to X (keep random seed)\n",
    "* Fix b_0 and b_1\n",
    "* Generate Y line with X, b_0 and b_1\n",
    "* Add random noise from normal distribution, with (0,0.4) (keep random seed)\n",
    "* Plot results\n",
    "* Concatenate ones in X"
   ]
  },
  {
   "cell_type": "code",
   "execution_count": 38,
   "metadata": {},
   "outputs": [
    {
     "data": {
      "image/png": "[encoded data removed]",
      "text/plain": [
       "<Figure size 432x288 with 1 Axes>"
      ]
     },
     "metadata": {},
     "output_type": "display_data"
    }
   ],
   "source": [
    "#code here"
   ]
  },
  {
   "cell_type": "markdown",
   "metadata": {},
   "source": [
    "#### Implement main LinearRegression class"
   ]
  },
  {
   "cell_type": "code",
   "execution_count": 34,
   "metadata": {},
   "outputs": [],
   "source": [
    "class LinearRegression:\n",
    "    \"\"\"\n",
    "    Linear Regression Class\n",
    "    You need to implement LR algorithm with 2 different methods(analytical sol. and Gradient Descent)\n",
    "\n",
    "    \"\"\"\n",
    "\n",
    "    def __init__(self):\n",
    "        \"\"\"\n",
    "        Init method\n",
    "        \"\"\"\n",
    "        self.betta = None\n",
    "        self.alpha = None\n",
    "\n",
    "    def fit_least_squares(self, X, Y):\n",
    "        \"\"\"\n",
    "        Main fit method.\n",
    "        Method takes X, Y parameters, find optimal bettas(with analytical solution) and return it\n",
    "        :param X: (np.array,n*p) features\n",
    "        :param Y: (np.array,n*1) target variable\n",
    "        :return: betta (np.array,p*1) \n",
    "        \"\"\"\n",
    "        pass \n",
    "\n",
    "    def fit_gradient_descent(self, X, Y, alpha, delta):\n",
    "        \"\"\"\n",
    "        Fit with gradient descent optimizer\n",
    "        Method takes X, Y and method parameters, find optimal bettas(with gradient descent) and return it\n",
    "        :param X: (np.array,n*p) features\n",
    "        :param Y: (np.array,n*1) target\n",
    "        :param alpha: (float) learning rate\n",
    "        :param delta: (int) threshold for minimum difference between betta_i and betta_i+1\n",
    "        :return: betta (np.array,p*1) \n",
    "        \"\"\"\n",
    "        pass\n",
    "\n",
    "    def predict(self, X,gradient=True):\n",
    "        \"\"\"\n",
    "        Make prediction with fitted bettas \n",
    "        :param X: (np.array,n*p) features\n",
    "        :param graient: (bool) true if we want too use bettas from gradint descent(else for least_squares)\n",
    "        :return: Y_pred (np.array,n*1) predictions\n",
    "        \"\"\"\n",
    "        pass\n",
    "\n",
    "    def loss(self, X, Y):\n",
    "        \"\"\"\n",
    "        Method for calculation current loss\n",
    "        Need to implement Mean Square Error Loss\n",
    "        :param X: (np.array,n*p) features\n",
    "        :param Y: (np.array,n*1) target\n",
    "        :return: (float) Mean Squared Error Loss\n",
    "        \"\"\"\n",
    "        pass\n",
    "\n",
    "    def plot_line(self, X, Y):\n",
    "        \"\"\"\n",
    "        Method plots data points and approximated lines for both methods(in one figure)\n",
    "        :return: None \n",
    "        \"\"\"\n",
    "        pass\n"
   ]
  },
  {
   "cell_type": "code",
   "execution_count": 35,
   "metadata": {},
   "outputs": [
    {
     "name": "stdout",
     "output_type": "stream",
     "text": [
      "(2, 1)\n"
     ]
    },
    {
     "data": {
      "text/plain": [
       "array([4.01005045, 4.98743877])"
      ]
     },
     "execution_count": 35,
     "metadata": {},
     "output_type": "execute_result"
    }
   ],
   "source": [
    "model = LinearRegression()\n",
    "model.fit(X,Y)"
   ]
  }
 ],
 "metadata": {
  "kernelspec": {
   "display_name": "Python 3",
   "language": "python",
   "name": "python3"
  },
  "language_info": {
   "codemirror_mode": {
    "name": "ipython",
    "version": 3
   },
   "file_extension": ".py",
   "mimetype": "text/x-python",
   "name": "python",
   "nbconvert_exporter": "python",
   "pygments_lexer": "ipython3",
   "version": "3.6.9"
  }
 },
 "nbformat": 4,
 "nbformat_minor": 2
}
